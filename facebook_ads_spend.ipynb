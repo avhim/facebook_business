{
 "cells": [
  {
   "cell_type": "code",
   "execution_count": null,
   "metadata": {},
   "outputs": [],
   "source": [
    "from facebook_business.api import FacebookAdsApi\n",
    "from facebook_business.exceptions import FacebookRequestError\n",
    "from facebook_business.adobjects.adaccount import AdAccount\n",
    "from facebook_business.adobjects.adreportrun import AdReportRun\n",
    "from facebook_business.adobjects.adsinsights import AdsInsights\n",
    "from facebook_business.adobjects.campaign import Campaign\n",
    "from facebook_business.adobjects.adset import AdSet\n",
    "from facebook_business.adobjects.adaccountuser import AdAccountUser as AdUser\n",
    "from facebook_business import adobjects\n",
    "from pandas import DataFrame\n",
    "import time"
   ]
  },
  {
   "cell_type": "code",
   "execution_count": null,
   "metadata": {},
   "outputs": [],
   "source": [
    "access_token = 'ACCESS_TOKEN'\n",
    "ad_account_id = \"act_AD_ACCOUNT_ID\"\n",
    "app_secret = 'APP_SECRET'\n",
    "app_id = 'APP_ID'\n",
    "\n",
    "FacebookAdsApi.init(access_token=access_token)"
   ]
  },
  {
   "cell_type": "code",
   "execution_count": null,
   "metadata": {},
   "outputs": [],
   "source": [
    "me = AdUser(fbid='me')\n",
    "my_accounts = list(me.get_ad_accounts())\n",
    "my_accounts"
   ]
  },
  {
   "cell_type": "code",
   "execution_count": null,
   "metadata": {},
   "outputs": [],
   "source": [
    "my_account = my_accounts[0]\n",
    "campaigns = my_account.get_campaigns()\n",
    "print(campaigns)"
   ]
  },
  {
   "cell_type": "code",
   "execution_count": null,
   "metadata": {},
   "outputs": [],
   "source": [
    "my_account.api_get(fields=[AdAccount.Field.amount_spent])\n",
    "print(int(my_account[AdAccount.Field.amount_spent])/100)"
   ]
  },
  {
   "cell_type": "code",
   "execution_count": null,
   "metadata": {},
   "outputs": [],
   "source": [
    "fields = [\n",
    "    AdsInsights.Field.campaign_id,\n",
    "    AdsInsights.Field.clicks,\n",
    "    AdsInsights.Field.spend,\n",
    "    AdsInsights.Field.impressions]\n",
    "\n",
    "count = 0"
   ]
  },
  {
   "cell_type": "code",
   "execution_count": null,
   "metadata": {},
   "outputs": [],
   "source": [
    "def wait_for_async_job(async_job):\n",
    "    global count\n",
    "    async_job = async_job.api_get()\n",
    "    while async_job[AdReportRun.Field.async_status] != 'Job Completed' or async_job[AdReportRun.Field.async_percent_completion] < 100:\n",
    "        time.sleep(2)\n",
    "        async_job = async_job.api_get()\n",
    "    else:\n",
    "        print(f\"Job {count} completed\")\n",
    "        count += 1\n",
    "    return async_job.get_result(params={\"limit\": 1000})"
   ]
  },
  {
   "cell_type": "code",
   "execution_count": null,
   "metadata": {},
   "outputs": [],
   "source": [
    "def get_insights(account, date_preset='last_3d'):\n",
    "    account = AdAccount(account['id'])\n",
    "    i_async_job = account.get_insights(\n",
    "        params={\n",
    "            'level': 'ad',\n",
    "            'date_preset': date_preset,\n",
    "            'time_increment': 1\n",
    "        },\n",
    "        fields=fields,\n",
    "        is_async=True\n",
    "    )\n",
    "    results = [dict(item) for item in wait_for_async_job(i_async_job)]\n",
    "    return results"
   ]
  },
  {
   "cell_type": "code",
   "execution_count": null,
   "metadata": {},
   "outputs": [],
   "source": [
    "elem_insights = []\n",
    "insights_lists = []\n",
    "date_preset = 'last_7d'"
   ]
  },
  {
   "cell_type": "code",
   "execution_count": null,
   "metadata": {},
   "outputs": [],
   "source": [
    "for account in my_accounts:\n",
    "    account_insights = get_insights(account, date_preset)\n",
    "    insights_lists.append(account_insights)"
   ]
  },
  {
   "cell_type": "code",
   "execution_count": null,
   "metadata": {},
   "outputs": [],
   "source": [
    "insights_camplaign_id_list = []\n",
    "insights_click_list = []\n",
    "insights_spend_list = []\n",
    "insights_impressions_list = []\n",
    "insights_date_start_list = []\n",
    "insights_date_stop_list = []"
   ]
  },
  {
   "cell_type": "code",
   "execution_count": null,
   "metadata": {},
   "outputs": [],
   "source": [
    "for account in insights_lists:\n",
    "    for campaign in account:\n",
    "        insights_camplaign_id_list.append(int(campaign['campaign_id']))\n",
    "        insights_click_list.append(int(campaign['clicks']))\n",
    "        insights_spend_list.append(float(campaign['spend']))\n",
    "        insights_impressions_list.append(int(campaign['impressions']))\n",
    "        insights_date_start_list.append(campaign['date_start'])\n",
    "        insights_date_stop_list.append(campaign['date_stop'])"
   ]
  },
  {
   "cell_type": "code",
   "execution_count": null,
   "metadata": {},
   "outputs": [],
   "source": [
    "df = DataFrame()\n",
    "df['campaign_id'] = insights_camplaign_id_list\n",
    "df['clicks'] = insights_click_list\n",
    "df['spend'] = insights_spend_list\n",
    "df['impressions'] = insights_impressions_list\n",
    "df['date_start'] = insights_date_start_list\n",
    "df['date_stop'] = insights_date_stop_list"
   ]
  },
  {
   "cell_type": "code",
   "execution_count": null,
   "metadata": {},
   "outputs": [],
   "source": [
    "df.head()"
   ]
  },
  {
   "cell_type": "code",
   "execution_count": null,
   "metadata": {},
   "outputs": [],
   "source": [
    "df.groupby(['campaign_id']).sum()"
   ]
  }
 ],
 "metadata": {
  "language_info": {
   "name": "python"
  }
 },
 "nbformat": 4,
 "nbformat_minor": 2
}
